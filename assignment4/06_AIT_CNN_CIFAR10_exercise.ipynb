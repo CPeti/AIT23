{
 "cells": [
  {
   "cell_type": "markdown",
   "metadata": {
    "id": "cW-EyI5Lxpqi"
   },
   "source": [
    "# Copyright\n",
    "\n",
    "<PRE>\n",
    "Copyright (c) 2023 Bálint Gyires-Tóth - All Rights Reserved\n",
    "You may use and modify this code for research and development purpuses.\n",
    "Using this code for educational purposes (self-paced or instructor led) without the permission of the author is prohibited.\n",
    "</PRE>"
   ]
  },
  {
   "cell_type": "markdown",
   "metadata": {
    "id": "3EX4cCa4WKJu"
   },
   "source": [
    "# Convolutional Neural Network exercise\n",
    "\n",
    "In this notebook, you will build a convolutional neural network, which offers superior results over the previous MLP solution. Additionally, you will perform a more detailed evaluation.  "
   ]
  },
  {
   "cell_type": "code",
   "execution_count": 35,
   "metadata": {
    "id": "GdCMhy4HA2qd"
   },
   "outputs": [],
   "source": [
    "# imports \n",
    "from tensorflow.keras.datasets import cifar10\n",
    "from tensorflow.keras.utils import to_categorical\n",
    "import numpy as np\n",
    "import matplotlib.pyplot as plt\n",
    "from tensorflow.keras.models import Sequential\n",
    "from tensorflow.keras.layers import Dense, Conv2D, MaxPool2D, Flatten, Dropout, BatchNormalization\n",
    "from tensorflow.keras.initializers import HeNormal\n",
    "from tensorflow.keras.callbacks import EarlyStopping"
   ]
  },
  {
   "cell_type": "markdown",
   "metadata": {
    "id": "yY9fztIeWIKt"
   },
   "source": [
    "# 1. Data\n",
    "The dataset we will use is the well-known CIFAR10 (Canadian Institute For Advanced Research). Explore the details on the Keras website first: https://keras.io/api/datasets/cifar10/\n",
    "\n",
    "There isn't much difference between the data preprocessing part and the one we did before. The only difference is that we don't have to reshape images into vectors, but we are working with a 4 dimensional data structure, where the dimensions are: batch, X, Y, and color channels. \n",
    "\n",
    "In the event that anything is not clear regarding the data preparation part, please check the previous CIFAR10 notebook."
   ]
  },
  {
   "cell_type": "code",
   "execution_count": 36,
   "metadata": {
    "colab": {
     "base_uri": "https://localhost:8080/"
    },
    "id": "bez7q0eiWQCK",
    "outputId": "d6438437-2be5-4dc6-ff50-b34057e0d050"
   },
   "outputs": [],
   "source": [
    "(X_train, Y_train), (X_test, Y_test) = cifar10.load_data()"
   ]
  },
  {
   "cell_type": "code",
   "execution_count": 37,
   "metadata": {
    "id": "vukOcBM0XzSj"
   },
   "outputs": [],
   "source": [
    "# it is in int8 format, the neural network requires float32\n",
    "X_train = X_train.astype(\"float32\")\n",
    "X_test = X_test.astype(\"float32\")"
   ]
  },
  {
   "cell_type": "code",
   "execution_count": 38,
   "metadata": {
    "id": "mRwuWxxIxLgN"
   },
   "outputs": [],
   "source": [
    "train_ratio  = 0.8\n",
    "train_length = X_train.shape[0]\n",
    "train_split  = int(train_ratio*train_length)\n",
    "X_valid, Y_valid = X_train[train_split:], Y_train[train_split:]\n",
    "X_train, Y_train = X_train[:train_split], Y_train[:train_split]"
   ]
  },
  {
   "cell_type": "code",
   "execution_count": 43,
   "metadata": {
    "id": "2ESLP1EIyB2J"
   },
   "outputs": [],
   "source": [
    "mean = X_train.mean(axis=0)\n",
    "std  = X_train.std(axis=0)\n",
    "\n",
    "X_train = (X_train-mean)/std\n",
    "X_valid = (X_valid-mean)/std\n",
    "X_test  = (X_test-mean)/std"
   ]
  },
  {
   "cell_type": "code",
   "execution_count": 44,
   "metadata": {
    "id": "xwZ4OJ6I8lba"
   },
   "outputs": [],
   "source": [
    "nb_classes = len(np.unique(Y_train))\n",
    "Y_train = to_categorical(Y_train, nb_classes)\n",
    "Y_valid = to_categorical(Y_valid, nb_classes)\n",
    "Y_test  = to_categorical(Y_test, nb_classes)"
   ]
  },
  {
   "cell_type": "code",
   "execution_count": 46,
   "metadata": {
    "colab": {
     "base_uri": "https://localhost:8080/"
    },
    "id": "O_jdJVcvX0vi",
    "outputId": "3ef89812-4325-40c5-cb62-52060cf0b0a7"
   },
   "outputs": [
    {
     "name": "stdout",
     "output_type": "stream",
     "text": [
      "Shapes of the training, validation and test input data: (40000, 32, 32, 3) (10000, 32, 32, 3) (10000, 32, 32, 3)\n",
      "Shapes of the training, validation and test output data: (40000, 10) (10000, 10) (10000, 10)\n",
      "Mean values of the training, validation and test input data: 2.2788842e-09 0.0023437198 0.013331206\n",
      "Standard deviation of the training, validation and test input data: 1.0000023 0.9965626 0.99783075\n"
     ]
    }
   ],
   "source": [
    "print(\"Shapes of the training, validation and test input data:\", X_train.shape, X_valid.shape, X_test.shape)\n",
    "print(\"Shapes of the training, validation and test output data:\", Y_train.shape, Y_valid.shape, Y_test.shape)\n",
    "print(\"Mean values of the training, validation and test input data:\", X_train.mean(), X_valid.mean(), X_test.mean())\n",
    "print(\"Standard deviation of the training, validation and test input data:\", X_train.std(), X_valid.std(), X_test.std())"
   ]
  },
  {
   "cell_type": "markdown",
   "metadata": {
    "id": "cJ14oyZExpqj"
   },
   "source": [
    "# 2. Exercise: training"
   ]
  },
  {
   "cell_type": "markdown",
   "metadata": {
    "id": "j1tGVPdD-pp3"
   },
   "source": [
    "Create and train a convolutional neural network with the following requirements:\n",
    "* apply early stopping with patience=5 and monitor the validation accuracy, don't forget to load back the best weights after early stopping\n",
    "* the number of trainable parameters is lower than 200.000\n",
    "* the validation accuracy must be higher than 72%\n",
    "\n",
    "Hints:\n",
    "* you can always inspect the number of trainable parameters per layer with model.summary()\n",
    "* usually the most trainable parameters are between the last convolutional layer and the next dense layer -- so you should have a reasonable output size at the last convolutional layer\n",
    "* regularization helps (e.g. DropOut and/or BatchNormalization)\n",
    "* use the right activation function at the output layer and the corresponding loss function\n",
    "* for the chosen activation functions, please use the appropriate initialization method\n",
    "* ADAM optimizer is a reasonable choice \n",
    "* don't forget to turn on GPU support in Colab, otherwise, it would be quite slow to train the networks\n",
    "\n"
   ]
  },
  {
   "cell_type": "code",
   "execution_count": 47,
   "metadata": {
    "id": "5dBQxJHIHrbd"
   },
   "outputs": [],
   "source": [
    "es = EarlyStopping(monitor=\"val_accuracy\", patience=5, restore_best_weights=True) # early stopping"
   ]
  },
  {
   "cell_type": "code",
   "execution_count": 69,
   "metadata": {
    "id": "PuxHOqLt-3Nd"
   },
   "outputs": [],
   "source": [
    "# model definition\n",
    "model = Sequential()\n",
    "model.add(Conv2D(75, (3, 3), strides=1, padding=\"same\", activation=\"relu\", kernel_initializer=HeNormal() ,input_shape=(32, 32, 3)))\n",
    "model.add(BatchNormalization())\n",
    "model.add(MaxPool2D((2, 2), strides=2, padding=\"same\"))\n",
    "model.add(Conv2D(50, (3, 3), strides=1, padding=\"same\", activation=\"relu\", kernel_initializer=HeNormal()))\n",
    "model.add(Dropout(0.2))\n",
    "model.add(BatchNormalization())\n",
    "model.add(MaxPool2D((2, 2), strides=2, padding=\"same\"))\n",
    "model.add(Conv2D(25, (3, 3), strides=1, padding=\"same\", activation=\"relu\", kernel_initializer=HeNormal()))\n",
    "model.add(BatchNormalization())\n",
    "model.add(MaxPool2D((2, 2), strides=2, padding=\"same\"))\n",
    "model.add(Flatten())\n",
    "model.add(Dense(units=256, activation=\"relu\", kernel_initializer=HeNormal()))\n",
    "model.add(Dropout(0.3))\n",
    "model.add(Dense(units=nb_classes, activation=\"softmax\"))\n",
    "\n",
    "\n",
    "# loss function and optimizer\n",
    "model.compile(loss=\"categorical_crossentropy\", optimizer=\"adam\", metrics=[\"accuracy\"])"
   ]
  },
  {
   "cell_type": "code",
   "execution_count": 57,
   "metadata": {
    "id": "5eomQw8uE9Ix"
   },
   "outputs": [
    {
     "name": "stdout",
     "output_type": "stream",
     "text": [
      "Model: \"sequential_6\"\n",
      "_________________________________________________________________\n",
      " Layer (type)                Output Shape              Param #   \n",
      "=================================================================\n",
      " conv2d_14 (Conv2D)          (None, 32, 32, 75)        2100      \n",
      "                                                                 \n",
      " batch_normalization_14 (Bat  (None, 32, 32, 75)       300       \n",
      " chNormalization)                                                \n",
      "                                                                 \n",
      " max_pooling2d_14 (MaxPoolin  (None, 16, 16, 75)       0         \n",
      " g2D)                                                            \n",
      "                                                                 \n",
      " conv2d_15 (Conv2D)          (None, 16, 16, 50)        33800     \n",
      "                                                                 \n",
      " dropout_8 (Dropout)         (None, 16, 16, 50)        0         \n",
      "                                                                 \n",
      " batch_normalization_15 (Bat  (None, 16, 16, 50)       200       \n",
      " chNormalization)                                                \n",
      "                                                                 \n",
      " max_pooling2d_15 (MaxPoolin  (None, 8, 8, 50)         0         \n",
      " g2D)                                                            \n",
      "                                                                 \n",
      " conv2d_16 (Conv2D)          (None, 8, 8, 25)          11275     \n",
      "                                                                 \n",
      " batch_normalization_16 (Bat  (None, 8, 8, 25)         100       \n",
      " chNormalization)                                                \n",
      "                                                                 \n",
      " max_pooling2d_16 (MaxPoolin  (None, 4, 4, 25)         0         \n",
      " g2D)                                                            \n",
      "                                                                 \n",
      " flatten_4 (Flatten)         (None, 400)               0         \n",
      "                                                                 \n",
      " dense_8 (Dense)             (None, 256)               102656    \n",
      "                                                                 \n",
      " dropout_9 (Dropout)         (None, 256)               0         \n",
      "                                                                 \n",
      " dense_9 (Dense)             (None, 10)                2570      \n",
      "                                                                 \n",
      "=================================================================\n",
      "Total params: 153,001\n",
      "Trainable params: 152,701\n",
      "Non-trainable params: 300\n",
      "_________________________________________________________________\n"
     ]
    }
   ],
   "source": [
    "model.summary()"
   ]
  },
  {
   "cell_type": "markdown",
   "metadata": {
    "id": "8tIbIIeTEI41"
   },
   "source": [
    "Please, check the number of trainable paramers:"
   ]
  },
  {
   "cell_type": "code",
   "execution_count": 70,
   "metadata": {
    "id": "xdBAG7EJETlX"
   },
   "outputs": [
    {
     "name": "stdout",
     "output_type": "stream",
     "text": [
      "#trainable parameters: 153001\n"
     ]
    }
   ],
   "source": [
    "print(\"#trainable parameters:\",model.count_params())"
   ]
  },
  {
   "cell_type": "code",
   "execution_count": 71,
   "metadata": {
    "id": "u8tFNCNVHyt9"
   },
   "outputs": [
    {
     "name": "stdout",
     "output_type": "stream",
     "text": [
      "Epoch 1/1000\n",
      "313/313 [==============================] - 39s 125ms/step - loss: 1.5820 - accuracy: 0.4427 - val_loss: 1.2782 - val_accuracy: 0.5388\n",
      "Epoch 2/1000\n",
      "313/313 [==============================] - 39s 123ms/step - loss: 1.1519 - accuracy: 0.5872 - val_loss: 1.0321 - val_accuracy: 0.6319\n",
      "Epoch 3/1000\n",
      "313/313 [==============================] - 39s 125ms/step - loss: 0.9714 - accuracy: 0.6525 - val_loss: 0.9389 - val_accuracy: 0.6644\n",
      "Epoch 4/1000\n",
      "313/313 [==============================] - 38s 123ms/step - loss: 0.8644 - accuracy: 0.6948 - val_loss: 0.9061 - val_accuracy: 0.6865\n",
      "Epoch 5/1000\n",
      "313/313 [==============================] - 37s 119ms/step - loss: 0.7796 - accuracy: 0.7232 - val_loss: 0.8229 - val_accuracy: 0.7101\n",
      "Epoch 6/1000\n",
      "313/313 [==============================] - 39s 124ms/step - loss: 0.7238 - accuracy: 0.7429 - val_loss: 0.8078 - val_accuracy: 0.7209\n",
      "Epoch 7/1000\n",
      "313/313 [==============================] - 43s 136ms/step - loss: 0.6729 - accuracy: 0.7622 - val_loss: 0.7937 - val_accuracy: 0.7231\n",
      "Epoch 8/1000\n",
      "313/313 [==============================] - 43s 136ms/step - loss: 0.6309 - accuracy: 0.7746 - val_loss: 0.7764 - val_accuracy: 0.7381\n",
      "Epoch 9/1000\n",
      "313/313 [==============================] - 44s 142ms/step - loss: 0.5861 - accuracy: 0.7935 - val_loss: 0.8262 - val_accuracy: 0.7238\n",
      "Epoch 10/1000\n",
      "313/313 [==============================] - 44s 141ms/step - loss: 0.5498 - accuracy: 0.8053 - val_loss: 0.7461 - val_accuracy: 0.7507\n",
      "Epoch 11/1000\n",
      "313/313 [==============================] - 42s 136ms/step - loss: 0.5213 - accuracy: 0.8153 - val_loss: 0.7551 - val_accuracy: 0.7476\n",
      "Epoch 12/1000\n",
      "313/313 [==============================] - 42s 135ms/step - loss: 0.4984 - accuracy: 0.8231 - val_loss: 0.7492 - val_accuracy: 0.7595\n",
      "Epoch 13/1000\n",
      "313/313 [==============================] - 42s 133ms/step - loss: 0.4646 - accuracy: 0.8338 - val_loss: 0.7745 - val_accuracy: 0.7553\n",
      "Epoch 14/1000\n",
      "313/313 [==============================] - 42s 135ms/step - loss: 0.4402 - accuracy: 0.8454 - val_loss: 0.7741 - val_accuracy: 0.7560\n",
      "Epoch 15/1000\n",
      "313/313 [==============================] - 40s 127ms/step - loss: 0.4185 - accuracy: 0.8507 - val_loss: 0.7543 - val_accuracy: 0.7566\n",
      "Epoch 16/1000\n",
      "313/313 [==============================] - 39s 124ms/step - loss: 0.4034 - accuracy: 0.8563 - val_loss: 0.7910 - val_accuracy: 0.7557\n",
      "Epoch 17/1000\n",
      "313/313 [==============================] - 38s 122ms/step - loss: 0.3867 - accuracy: 0.8609 - val_loss: 0.7708 - val_accuracy: 0.7615\n",
      "Epoch 18/1000\n",
      "313/313 [==============================] - 38s 121ms/step - loss: 0.3629 - accuracy: 0.8709 - val_loss: 0.7944 - val_accuracy: 0.7650\n",
      "Epoch 19/1000\n",
      "313/313 [==============================] - 37s 119ms/step - loss: 0.3507 - accuracy: 0.8743 - val_loss: 0.8028 - val_accuracy: 0.7612\n",
      "Epoch 20/1000\n",
      "313/313 [==============================] - 38s 122ms/step - loss: 0.3347 - accuracy: 0.8788 - val_loss: 0.8139 - val_accuracy: 0.7611\n",
      "Epoch 21/1000\n",
      "313/313 [==============================] - 39s 124ms/step - loss: 0.3205 - accuracy: 0.8845 - val_loss: 0.8098 - val_accuracy: 0.7646\n",
      "Epoch 22/1000\n",
      "313/313 [==============================] - 40s 127ms/step - loss: 0.3047 - accuracy: 0.8897 - val_loss: 0.8076 - val_accuracy: 0.7720\n",
      "Epoch 23/1000\n",
      "313/313 [==============================] - 38s 122ms/step - loss: 0.2964 - accuracy: 0.8917 - val_loss: 0.8843 - val_accuracy: 0.7591\n",
      "Epoch 24/1000\n",
      "313/313 [==============================] - 39s 124ms/step - loss: 0.2916 - accuracy: 0.8959 - val_loss: 0.8361 - val_accuracy: 0.7583\n",
      "Epoch 25/1000\n",
      "313/313 [==============================] - 40s 127ms/step - loss: 0.2772 - accuracy: 0.8985 - val_loss: 0.8737 - val_accuracy: 0.7596\n",
      "Epoch 26/1000\n",
      "313/313 [==============================] - 39s 125ms/step - loss: 0.2681 - accuracy: 0.9033 - val_loss: 0.8714 - val_accuracy: 0.7690\n",
      "Epoch 27/1000\n",
      "313/313 [==============================] - 42s 135ms/step - loss: 0.2619 - accuracy: 0.9042 - val_loss: 0.8717 - val_accuracy: 0.7694\n"
     ]
    }
   ],
   "source": [
    "# training\n",
    "network_history = model.fit(X_train, Y_train, epochs=1000, batch_size=128, verbose=1, validation_data=(X_valid, Y_valid), callbacks=[es])"
   ]
  },
  {
   "cell_type": "markdown",
   "metadata": {
    "id": "2FtKp-a2-A9m"
   },
   "source": [
    "# 3. Exercise: evaluation on test data\n",
    "You will evaluate the classification of the test data using the common metrics and the confusion matrix in this section. \n",
    "\n",
    "\n",
    "As a first stes, let's run the predictions and convert the predicted softmax outputs to dense labels. The one-hot encoded labels are also converted back to dense labels, as they are required for the evaluation functions."
   ]
  },
  {
   "cell_type": "code",
   "execution_count": 72,
   "metadata": {
    "id": "EcWAqwlDMq3y"
   },
   "outputs": [
    {
     "name": "stdout",
     "output_type": "stream",
     "text": [
      "313/313 [==============================] - 3s 8ms/step\n"
     ]
    }
   ],
   "source": [
    "probas = model.predict(X_test)\n",
    "preds  = np.argmax(probas,axis=1)\n",
    "Y_test_dense = np.argmax(Y_test, axis=1) # get the original dense labels of the test data"
   ]
  },
  {
   "cell_type": "markdown",
   "metadata": {
    "id": "RWJ-PH_iMs9K"
   },
   "source": [
    "## 3.1. Exercise: Metrics\n",
    "please review the common classification metrics (accuracy, precision, recall, F1) for the complete model (not per class). \n",
    "\n",
    "Hints:\n",
    "* use macro averaging\n",
    "* you have to import the right functions from [sklearn.metrics](https://scikit-learn.org/stable/modules/model_evaluation.html)\n"
   ]
  },
  {
   "cell_type": "code",
   "execution_count": 73,
   "metadata": {
    "id": "5sKm5zHSMZ_x"
   },
   "outputs": [],
   "source": [
    "from sklearn.metrics import f1_score, accuracy_score, recall_score, precision_score"
   ]
  },
  {
   "cell_type": "code",
   "execution_count": 74,
   "metadata": {
    "id": "I3_9wgDREUna"
   },
   "outputs": [
    {
     "name": "stdout",
     "output_type": "stream",
     "text": [
      "Accuracy: 0.7625\n",
      "Precision: 0.7658805759910436\n",
      "Recall: 0.7625\n",
      "F1: 0.7630307222903329\n"
     ]
    }
   ],
   "source": [
    "print(\"Accuracy:\", accuracy_score(Y_test_dense, preds))\n",
    "print(\"Precision:\", precision_score(Y_test_dense, preds, average=\"macro\"))\n",
    "print(\"Recall:\", recall_score(Y_test_dense, preds, average=\"macro\"))\n",
    "print(\"F1:\", f1_score(Y_test_dense, preds, average=\"macro\"))"
   ]
  },
  {
   "cell_type": "markdown",
   "metadata": {
    "id": "ECHguBFtGL7f"
   },
   "source": [
    "\n",
    "## 3.2. Exercise: Confusion matrix\n",
    "Calculate the confusion matrix and display the results in a heatmap (with decimal values).\n",
    "\n",
    "Hints:\n",
    "* you have to do the imports this time too, e.g. from [sklearn.metrics](https://scikit-learn.org/stable/modules/model_evaluation.html) and the [heatmap function](https://seaborn.pydata.org/generated/seaborn.heatmap.html) of [seaborn](https://seaborn.pydata.org/)\n",
    "* for displaying the decimal values, you have to turn annot=True and define fmt='d' in the heatmap function of seaborn"
   ]
  },
  {
   "cell_type": "code",
   "execution_count": 75,
   "metadata": {
    "id": "SIi2VzMBO3yD"
   },
   "outputs": [],
   "source": [
    "from sklearn.metrics import confusion_matrix\n",
    "import seaborn as sns"
   ]
  },
  {
   "cell_type": "code",
   "execution_count": 76,
   "metadata": {
    "id": "cdqODx92Svw7"
   },
   "outputs": [
    {
     "data": {
      "text/plain": [
       "<AxesSubplot:>"
      ]
     },
     "execution_count": 76,
     "metadata": {},
     "output_type": "execute_result"
    },
    {
     "data": {
      "image/png": "[encoded data removed]",
      "text/plain": [
       "<Figure size 700x600 with 2 Axes>"
      ]
     },
     "metadata": {},
     "output_type": "display_data"
    }
   ],
   "source": [
    "conf = confusion_matrix(Y_test_dense, preds)\n",
    "plt.figure(figsize=(7,6))\n",
    "sns.heatmap(conf, annot=True, fmt=\"d\", cmap=\"Reds\", vmin=1, vmax=200)"
   ]
  },
  {
   "attachments": {},
   "cell_type": "markdown",
   "metadata": {},
   "source": [
    "# Tensorboard integration"
   ]
  },
  {
   "cell_type": "code",
   "execution_count": 1,
   "metadata": {},
   "outputs": [
    {
     "ename": "NameError",
     "evalue": "name 'model' is not defined",
     "output_type": "error",
     "traceback": [
      "\u001b[1;31m---------------------------------------------------------------------------\u001b[0m",
      "\u001b[1;31mNameError\u001b[0m                                 Traceback (most recent call last)",
      "\u001b[1;32m~\\AppData\\Local\\Temp\\ipykernel_20096\\667280686.py\u001b[0m in \u001b[0;36m<module>\u001b[1;34m\u001b[0m\n\u001b[0;32m      1\u001b[0m \u001b[1;31m# defining the model's input\u001b[0m\u001b[1;33m\u001b[0m\u001b[1;33m\u001b[0m\u001b[0m\n\u001b[1;32m----> 2\u001b[1;33m \u001b[0minp\u001b[0m \u001b[1;33m=\u001b[0m \u001b[0mmodel\u001b[0m\u001b[1;33m.\u001b[0m\u001b[0minput\u001b[0m\u001b[1;33m\u001b[0m\u001b[1;33m\u001b[0m\u001b[0m\n\u001b[0m\u001b[0;32m      3\u001b[0m \u001b[1;31m# printing all the outputs of the models (layerwise)\u001b[0m\u001b[1;33m\u001b[0m\u001b[1;33m\u001b[0m\u001b[0m\n\u001b[0;32m      4\u001b[0m \u001b[0moutputs\u001b[0m \u001b[1;33m=\u001b[0m \u001b[1;33m[\u001b[0m\u001b[0mlayer\u001b[0m\u001b[1;33m.\u001b[0m\u001b[0moutput\u001b[0m \u001b[1;32mfor\u001b[0m \u001b[0mlayer\u001b[0m \u001b[1;32min\u001b[0m \u001b[0mmodel\u001b[0m\u001b[1;33m.\u001b[0m\u001b[0mlayers\u001b[0m\u001b[1;33m]\u001b[0m\u001b[1;33m\u001b[0m\u001b[1;33m\u001b[0m\u001b[0m\n\u001b[0;32m      5\u001b[0m \u001b[0mprint\u001b[0m\u001b[1;33m(\u001b[0m\u001b[0moutputs\u001b[0m\u001b[1;33m)\u001b[0m\u001b[1;33m\u001b[0m\u001b[1;33m\u001b[0m\u001b[0m\n",
      "\u001b[1;31mNameError\u001b[0m: name 'model' is not defined"
     ]
    }
   ],
   "source": [
    "# defining the model's input\n",
    "inp = model.input              \n",
    "# printing all the outputs of the models (layerwise)                         \n",
    "outputs = [layer.output for layer in model.layers]\n",
    "print(outputs)"
   ]
  }
 ],
 "metadata": {
  "accelerator": "GPU",
  "anaconda-cloud": {},
  "colab": {
   "provenance": []
  },
  "kernelspec": {
   "display_name": "Python 3 (ipykernel)",
   "language": "python",
   "name": "python3"
  },
  "language_info": {
   "codemirror_mode": {
    "name": "ipython",
    "version": 3
   },
   "file_extension": ".py",
   "mimetype": "text/x-python",
   "name": "python",
   "nbconvert_exporter": "python",
   "pygments_lexer": "ipython3",
   "version": "3.9.13"
  }
 },
 "nbformat": 4,
 "nbformat_minor": 4
}
